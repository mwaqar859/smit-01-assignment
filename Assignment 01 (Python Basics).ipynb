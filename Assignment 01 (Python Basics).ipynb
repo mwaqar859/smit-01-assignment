{
 "cells": [
  {
   "cell_type": "markdown",
   "metadata": {},
   "source": [
    "# Part -1 Python Basics (Variables)"
   ]
  },
  {
   "cell_type": "markdown",
   "metadata": {},
   "source": [
    "1. Print Your Name with your Father name and Date of birth using suitable escape sequence charactor"
   ]
  },
  {
   "cell_type": "code",
   "execution_count": 1,
   "metadata": {},
   "outputs": [
    {
     "name": "stdout",
     "output_type": "stream",
     "text": [
      "my name is : waqar , my father_name is : akram , my date of birth is : 20-11-1995\n"
     ]
    }
   ],
   "source": [
    "# Write your code here\n",
    "name = 'waqar'\n",
    "father_name = 'akram'\n",
    "date_of_birth = '20-11-1995'\n",
    "print(f'my name is : {name} , my father_name is : {father_name} , my date of birth is : {date_of_birth}')"
   ]
  },
  {
   "cell_type": "markdown",
   "metadata": {},
   "source": [
    "2. Write your small bio using variables and print it using print function"
   ]
  },
  {
   "cell_type": "code",
   "execution_count": 3,
   "metadata": {
    "scrolled": true
   },
   "outputs": [
    {
     "name": "stdout",
     "output_type": "stream",
     "text": [
      "waqar\n",
      "<class 'str'>\n",
      "29\n",
      "<class 'int'>\n",
      "79.8\n",
      "<class 'float'>\n",
      "True\n",
      "<class 'bool'>\n"
     ]
    }
   ],
   "source": [
    "# Write your code here\n",
    "name = 'waqar' #string\n",
    "print(name)\n",
    "print(type(name))\n",
    "age = 29 #integer\n",
    "print(age)\n",
    "print(type(age))\n",
    "weight = 79.8 #float\n",
    "print(weight)\n",
    "print(type(weight))\n",
    "male = True #boolean\n",
    "print(male)\n",
    "print(type(male))"
   ]
  },
  {
   "cell_type": "markdown",
   "metadata": {},
   "source": [
    "3. Write a program in which use all the operators we can use in Python"
   ]
  },
  {
   "cell_type": "code",
   "execution_count": 34,
   "metadata": {},
   "outputs": [
    {
     "name": "stdout",
     "output_type": "stream",
     "text": [
      "adition: 9\n",
      "subtraction: 1\n",
      "multiply: 20\n",
      "divide: 1.25\n",
      "power: 625\n",
      "floor: 1\n"
     ]
    }
   ],
   "source": [
    "a = 5\n",
    "b = 4\n",
    "print('adition:', a+b)\n",
    "print('subtraction:', a-b)\n",
    "print('multiply:', a*b)\n",
    "print('divide:', a/b)\n",
    "print('power:', a**b)\n",
    "print('floor:', a//b) #round off lower"
   ]
  },
  {
   "cell_type": "code",
   "execution_count": 26,
   "metadata": {},
   "outputs": [
    {
     "name": "stdout",
     "output_type": "stream",
     "text": [
      "result is : 5\n"
     ]
    }
   ],
   "source": [
    "import math #round off uper\n",
    "a = 14/3\n",
    "b = (math.ceil(a))\n",
    "print('result is :', b)"
   ]
  },
  {
   "cell_type": "code",
   "execution_count": 30,
   "metadata": {},
   "outputs": [
    {
     "name": "stdout",
     "output_type": "stream",
     "text": [
      "result is : 14\n"
     ]
    }
   ],
   "source": [
    "a = 93/7\n",
    "b = (math.ceil(a))\n",
    "print('result is :' , b)"
   ]
  },
  {
   "cell_type": "markdown",
   "metadata": {},
   "source": [
    "4. Completes the following steps of small task:\n",
    "    - Mention Marks of English , Islamiat and Maths out of 100 in 3 different variables\n",
    "    - Mention Variable of Total Marks and assign 300 to it\n",
    "    - Calculate Percentage"
   ]
  },
  {
   "cell_type": "code",
   "execution_count": 38,
   "metadata": {},
   "outputs": [
    {
     "name": "stdout",
     "output_type": "stream",
     "text": [
      "Total marks is : 300\n",
      "Total marks obtained is : 240\n",
      "percentage is: 80.0\n"
     ]
    }
   ],
   "source": [
    "# Write your code here\n",
    "English = 70\n",
    "Islamiat = 80\n",
    "Math = 90\n",
    "total_marks = 300\n",
    "total_marks_obtained = English + Islamiat + Math\n",
    "print(f'Total marks is : {total_marks}')\n",
    "print(f'Total marks obtained is : {total_marks_obtained}')\n",
    "print('percentage is:' , total_marks_obtained/total_marks*100)"
   ]
  },
  {
   "cell_type": "markdown",
   "metadata": {},
   "source": [
    "# Part -2 Python Basics (Conditional Statements)"
   ]
  },
  {
   "cell_type": "markdown",
   "metadata": {},
   "source": [
    "1) A company decided to give bonus of 5% to employee if his/her year of service is more than 5 years.\n",
    "Ask user for their salary and year of service and print the net bonus amount."
   ]
  },
  {
   "cell_type": "code",
   "execution_count": 7,
   "metadata": {},
   "outputs": [
    {
     "name": "stdin",
     "output_type": "stream",
     "text": [
      "what is your salary:  32000\n",
      "year of service:  9\n"
     ]
    },
    {
     "name": "stdout",
     "output_type": "stream",
     "text": [
      "Net bonus amount is :  1600.0\n"
     ]
    }
   ],
   "source": [
    "#Type your code here\n",
    "years_of_service = 5\n",
    "salary = int(input('what is your salary: '))\n",
    "years_of_service = int(input('year of service: '))\n",
    "\n",
    "if years_of_service > 5 :\n",
    "    bonus = salary*0.05 \n",
    "else:\n",
    "    bonus = 0\n",
    "\n",
    "print('Net bonus amount is : ' , salary*0.05)\n",
    "    "
   ]
  },
  {
   "cell_type": "markdown",
   "metadata": {},
   "source": [
    "\n",
    "2) Write a program to check whether a person is eligible for voting or not. (accept age from user) if age is greater than 17 eligible otherwise not eligible"
   ]
  },
  {
   "cell_type": "code",
   "execution_count": 62,
   "metadata": {},
   "outputs": [
    {
     "name": "stdin",
     "output_type": "stream",
     "text": [
      "enter your age :  19\n"
     ]
    },
    {
     "name": "stdout",
     "output_type": "stream",
     "text": [
      "you are eligible fot voting\n"
     ]
    }
   ],
   "source": [
    "#Type your code here\n",
    "int(input('enter your age : '))\n",
    "if age > 17:\n",
    "    print('you are eligible fot voting')\n",
    "else:\n",
    "    print('you are not eligible')"
   ]
  },
  {
   "cell_type": "markdown",
   "metadata": {},
   "source": [
    "\n",
    "3) Write a program to check whether a number entered by user is even or odd."
   ]
  },
  {
   "cell_type": "code",
   "execution_count": 81,
   "metadata": {},
   "outputs": [
    {
     "name": "stdin",
     "output_type": "stream",
     "text": [
      "enter your number:  2\n"
     ]
    },
    {
     "name": "stdout",
     "output_type": "stream",
     "text": [
      "entered 6 is even\n"
     ]
    }
   ],
   "source": [
    "#Type your code here\n",
    "number = int(input('enter your number: '))\n",
    "if number % 6 == 0 :\n",
    "    print(f'entered {number} is even')\n",
    "else:\n",
    "    print(f'entered {number} is odd')"
   ]
  },
  {
   "cell_type": "markdown",
   "metadata": {},
   "source": [
    "4) Write a program to check whether a number is divisible by 7 or not.\n",
    "Show Answer"
   ]
  },
  {
   "cell_type": "code",
   "execution_count": 84,
   "metadata": {},
   "outputs": [
    {
     "name": "stdin",
     "output_type": "stream",
     "text": [
      "enter your number 14\n"
     ]
    },
    {
     "name": "stdout",
     "output_type": "stream",
     "text": [
      "14 is divisible by 7\n"
     ]
    }
   ],
   "source": [
    "#Type your code here\n",
    "number = int(input('enter your number'))\n",
    "if number % 7 == 0 :\n",
    "    print(f'{number} is divisible by 7')\n",
    "else:\n",
    "    print(f'{number} is not divisible by 7')"
   ]
  },
  {
   "cell_type": "markdown",
   "metadata": {},
   "source": [
    "5) Write a program to display \n",
    "\"Hello\" if a number entered by user is a multiple of five , otherwise print \"Bye\"."
   ]
  },
  {
   "cell_type": "code",
   "execution_count": 8,
   "metadata": {},
   "outputs": [
    {
     "name": "stdin",
     "output_type": "stream",
     "text": [
      "enter your number 100\n"
     ]
    },
    {
     "name": "stdout",
     "output_type": "stream",
     "text": [
      "hello\n"
     ]
    }
   ],
   "source": [
    "#Type your code here\n",
    "number = int(input('enter your number'))\n",
    "if number % 5 == 0:\n",
    "    print('hello')\n",
    "else:\n",
    "    print('bye')\n"
   ]
  },
  {
   "cell_type": "markdown",
   "metadata": {},
   "source": [
    "7) Write a program to display the last digit of a number.\n"
   ]
  },
  {
   "cell_type": "code",
   "execution_count": 4,
   "metadata": {},
   "outputs": [
    {
     "name": "stdin",
     "output_type": "stream",
     "text": [
      "enter your number 212\n"
     ]
    },
    {
     "name": "stdout",
     "output_type": "stream",
     "text": [
      "last digit of number is :  2\n"
     ]
    }
   ],
   "source": [
    "#Type your code here\n",
    "number = int(input('enter your number'))\n",
    "last_digit = number % 10\n",
    "print('last digit of number is : ' , last_digit)"
   ]
  },
  {
   "cell_type": "markdown",
   "metadata": {},
   "source": [
    "9) Take values of length and breadth of a rectangle from user and print if it is square or rectangle."
   ]
  },
  {
   "cell_type": "code",
   "execution_count": 1,
   "metadata": {},
   "outputs": [
    {
     "name": "stdin",
     "output_type": "stream",
     "text": [
      "value of length is :  25\n",
      "value of breadth is :  10\n"
     ]
    },
    {
     "name": "stdout",
     "output_type": "stream",
     "text": [
      "This is Rectangle\n"
     ]
    }
   ],
   "source": [
    "#Type your code here \n",
    "Length = int(input('value of length is : '))\n",
    "Breadth = int(input('value of breadth is : '))\n",
    "if Length == Breadth:\n",
    "    print('This is Square')\n",
    "else:\n",
    "    print('This is Rectangle')"
   ]
  },
  {
   "cell_type": "markdown",
   "metadata": {},
   "source": [
    "10) Take two int values from user and print greatest among them."
   ]
  },
  {
   "cell_type": "code",
   "execution_count": 33,
   "metadata": {},
   "outputs": [
    {
     "name": "stdin",
     "output_type": "stream",
     "text": [
      "enter your value 70\n",
      "enter your value 20\n"
     ]
    },
    {
     "name": "stdout",
     "output_type": "stream",
     "text": [
      "the gratest value is value 1 70\n"
     ]
    }
   ],
   "source": [
    "# Type your code here\n",
    "value_1 = int(input('enter your value'))\n",
    "value_2 = int(input('enter your value'))\n",
    "if value_1 > value_2 :\n",
    "    print(f'the gratest value is value 1 {value_1}')\n",
    "else:\n",
    "    print(f'the gratest value is value 2 {value_2}')\n",
    "    "
   ]
  },
  {
   "cell_type": "markdown",
   "metadata": {},
   "source": [
    "11) A shop will give discount of 10% if the cost of purchased quantity is more than 1000.\n",
    "Ask user for quantity\n",
    "Suppose, one unit will cost 100.\n",
    "Judge and print total cost for user."
   ]
  },
  {
   "cell_type": "code",
   "execution_count": 18,
   "metadata": {},
   "outputs": [
    {
     "name": "stdin",
     "output_type": "stream",
     "text": [
      "Enter the quantity of items:  11\n"
     ]
    },
    {
     "name": "stdout",
     "output_type": "stream",
     "text": [
      "total cost of user is:  {990.0}\n"
     ]
    }
   ],
   "source": [
    "#Type your code here\n",
    "quantity = int(input('Enter the quantity of items: '))\n",
    "total_cost = quantity * 100\n",
    "if total_cost >= 1000:\n",
    "    discount = total_cost * 0.1\n",
    "    total_cost -= discount\n",
    "    print('total cost of user is: ' , {total_cost} )\n",
    "else:\n",
    "    print('No discount for user')"
   ]
  },
  {
   "cell_type": "markdown",
   "metadata": {},
   "source": [
    "12) A school has following rules for grading system:\n",
    "\n",
    "a. Below 25 - F\n",
    "\n",
    "b. 25 to 45 - E\n",
    "\n",
    "c. 45 to 50 - D\n",
    "\n",
    "d. 50 to 60 - C\n",
    "\n",
    "e. 60 to 80 - B\n",
    "\n",
    "f. Above 80 - A\n",
    "\n",
    "Ask user to enter marks and print the corresponding grade."
   ]
  },
  {
   "cell_type": "code",
   "execution_count": 2,
   "metadata": {},
   "outputs": [
    {
     "name": "stdin",
     "output_type": "stream",
     "text": [
      "Enter your marks:  50\n"
     ]
    },
    {
     "name": "stdout",
     "output_type": "stream",
     "text": [
      "your grade is D\n"
     ]
    }
   ],
   "source": [
    "marks = int(input('Enter your marks: '))\n",
    "\n",
    "if marks < 25:\n",
    "    print('your grade is F')\n",
    "elif 25 <= marks <= 45:\n",
    "    print('your grade is E')\n",
    "elif 45 < marks <= 50:\n",
    "    print('your grade is D')\n",
    "elif 50 < marks <= 60:\n",
    "    print('your grade is C')\n",
    "elif 60 < marks <= 80:\n",
    "    print('your grade is B')\n",
    "else:\n",
    "    print('your grade is A')"
   ]
  },
  {
   "cell_type": "markdown",
   "metadata": {},
   "source": [
    "14)A student will not be allowed to sit in exam if his/her attendence is less than 75%.\n",
    "\n",
    "Take following input from user\n",
    "\n",
    "- Number of classes held\n",
    "\n",
    "- Number of classes attended.\n",
    "\n",
    "And print\n",
    "\n",
    "- percentage of class attended\n",
    "\n",
    "- Is student is allowed to sit in exam or not.\n"
   ]
  },
  {
   "cell_type": "code",
   "execution_count": 29,
   "metadata": {},
   "outputs": [
    {
     "name": "stdin",
     "output_type": "stream",
     "text": [
      "Enter number of classes held :  115\n",
      "Enter number of classes attended :  90\n"
     ]
    },
    {
     "name": "stdout",
     "output_type": "stream",
     "text": [
      "student is allowed to sit in exam and his percentage of class attended is : 78.26086956521739%\n"
     ]
    }
   ],
   "source": [
    "#Type your code here\n",
    "number_of_classes = int(input('Enter number of classes held : '))\n",
    "number_of_classes_attended = int(input('Enter number of classes attended : '))\n",
    "attendence = number_of_classes_attended / number_of_classes * 100\n",
    "if attendence >= 75:\n",
    "    print(F'student is allowed to sit in exam and his percentage of class attended is : {attendence}%' )\n",
    "else:\n",
    "    print(F'student is not allowed to sit in exam and his percentage of class attended is : {attendence}%' )\n"
   ]
  },
  {
   "cell_type": "markdown",
   "metadata": {},
   "source": [
    "15) Modify the above question to allow student to sit if he/she has medical cause. Ask user if he/she has medical cause or not ( 'Y' or 'N' ) and print accordingly."
   ]
  },
  {
   "cell_type": "code",
   "execution_count": 4,
   "metadata": {},
   "outputs": [
    {
     "name": "stdin",
     "output_type": "stream",
     "text": [
      "Do you have medical cause :  N\n"
     ]
    },
    {
     "name": "stdout",
     "output_type": "stream",
     "text": [
      "student is allowed to sit in exam\n"
     ]
    }
   ],
   "source": [
    "#Type your code here\n",
    "medical_cause = input('Do you have medical cause : ')\n",
    "if medical_cause == 'N':\n",
    "    print('student is allowed to sit in exam')\n",
    "else:\n",
    "    print('student is not allowed to sit in exam')"
   ]
  },
  {
   "cell_type": "markdown",
   "metadata": {},
   "source": [
    "16) Write a program to check if a year is leap year or not.\n",
    "\n",
    "If a year is divisible by 4 then it is leap year but if the year is century year like 2000, 1900, 2100 then it must be divisible by 400."
   ]
  },
  {
   "cell_type": "code",
   "execution_count": 44,
   "metadata": {},
   "outputs": [
    {
     "name": "stdin",
     "output_type": "stream",
     "text": [
      "Enter a year:  2024\n"
     ]
    },
    {
     "name": "stdout",
     "output_type": "stream",
     "text": [
      "2024 is a leap year\n"
     ]
    }
   ],
   "source": [
    "#Type your code here\n",
    "def  is_leap_year(year):\n",
    "    if (year % 4 == 0 and year % 100 != 0) or (year % 400 == 0):\n",
    "        return True\n",
    "    else:\n",
    "        return False\n",
    "\n",
    "year = int(input(\"Enter a year: \"))\n",
    "\n",
    "if is_leap_year(year):\n",
    "    print(f\"{year} is a leap year\")\n",
    "else:\n",
    "    print(f\"{year} is not a leap year\")"
   ]
  },
  {
   "cell_type": "markdown",
   "metadata": {},
   "source": [
    "17) Ask user to enter age, gender ( M or F ), marital status ( Y or N ) and then using following rules print their place of service.\n",
    "\n",
    "if employee is female, then she will work only in urban areas.\n",
    "\n",
    "if employee is a male and age is in between 20 to 40 then he may work in anywhere\n",
    "\n",
    "if employee is male and age is in between 40 t0 60 then he will work in urban areas only.\n",
    "\n",
    "And any other input of age should print \"ERROR\""
   ]
  },
  {
   "cell_type": "code",
   "execution_count": 2,
   "metadata": {},
   "outputs": [
    {
     "name": "stdin",
     "output_type": "stream",
     "text": [
      "enter employee gender :  M\n",
      "enter employee age :  59\n",
      "enter employee martial status :  Y\n"
     ]
    },
    {
     "name": "stdout",
     "output_type": "stream",
     "text": [
      "employee is male and will work in urban areas only\n"
     ]
    }
   ],
   "source": [
    "employee_gender = input('enter employee gender : ')\n",
    "employee_age = int(input('enter employee age : '))\n",
    "employee_martial_status = input('enter employee martial status : ')\n",
    "if employee_gender == 'F':\n",
    "    print('employee will work only in urban areas')\n",
    "elif(employee_gender == 'M') and (25<= employee_age <=40):\n",
    "    print('employee is male and will work any where')\n",
    "elif (employee_gender == 'M') and (40<= employee_age <=60):\n",
    "    print('employee is male and will work in urban areas only')\n",
    "else:\n",
    "    print('ERROR')"
   ]
  },
  {
   "cell_type": "markdown",
   "metadata": {},
   "source": [
    "6) Write a program to calculate the electricity bill (accept number of unit from user) according to the following criteria :\n",
    "     Unit                                                     Price  \n",
    "uptp 100 units                                             no charge\n",
    "Next 200 units                                              Rs 5 per unit\n",
    "After 200 units                                             Rs 10 per unit\n",
    "(For example if input unit is 350 than total bill amount is Rs.3500\n",
    "(For example if input unit is 97 than total bill amount is Rs.0\n",
    "(For example if input unit is 150 than total bill amount is Rs.750"
   ]
  },
  {
   "cell_type": "code",
   "execution_count": 9,
   "metadata": {},
   "outputs": [
    {
     "name": "stdin",
     "output_type": "stream",
     "text": [
      "Enter the number of units:  200\n"
     ]
    },
    {
     "name": "stdout",
     "output_type": "stream",
     "text": [
      "The total bill amount is Rs. 500\n"
     ]
    }
   ],
   "source": [
    "units = int(input(\"Enter the number of units: \"))\n",
    "total_bill = 0\n",
    "if units <= 100:\n",
    "    total_bill = 0\n",
    "elif units <= 300:\n",
    "    total_bill = (units - 100) * 5\n",
    "elif units > 300:\n",
    "    total_bill = 200 * 5 + (units - 300) * 10\n",
    "print(f\"The total bill amount is Rs. {total_bill}\")"
   ]
  },
  {
   "cell_type": "markdown",
   "metadata": {},
   "source": [
    "13) Take input of age of 3 people by user and determine oldest and youngest among them."
   ]
  },
  {
   "cell_type": "code",
   "execution_count": 4,
   "metadata": {},
   "outputs": [
    {
     "name": "stdin",
     "output_type": "stream",
     "text": [
      "enter ali age : 45\n",
      "enter atif age : 50\n",
      "enter amin age : 75\n"
     ]
    },
    {
     "name": "stdout",
     "output_type": "stream",
     "text": [
      "The youngest person is 45 years old.\n",
      "The oldest person is 75 years old.\n"
     ]
    }
   ],
   "source": [
    "#Type your code here\n",
    "ali_age = int(input('enter ali age :'))\n",
    "atif_age = int(input('enter atif age :'))\n",
    "amin_age = int(input('enter amin age :'))\n",
    "oldest = max(ali_age, atif_age, amin_age)\n",
    "youngest = min(ali_age, atif_age, amin_age)\n",
    "print(f\"The youngest person is {youngest} years old.\")\n",
    "print(f\"The oldest person is {oldest} years old.\")"
   ]
  }
 ],
 "metadata": {
  "kernelspec": {
   "display_name": "Python 3 (ipykernel)",
   "language": "python",
   "name": "python3"
  },
  "language_info": {
   "codemirror_mode": {
    "name": "ipython",
    "version": 3
   },
   "file_extension": ".py",
   "mimetype": "text/x-python",
   "name": "python",
   "nbconvert_exporter": "python",
   "pygments_lexer": "ipython3",
   "version": "3.11.7"
  }
 },
 "nbformat": 4,
 "nbformat_minor": 4
}
